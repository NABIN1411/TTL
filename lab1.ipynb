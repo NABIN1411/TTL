{
 "cells": [
  {
   "cell_type": "code",
   "execution_count": 1,
   "metadata": {
    "colab": {
     "base_uri": "https://localhost:8080/"
    },
    "id": "4K5q5t9A-Ibi",
    "outputId": "e18956ed-80fc-4565-b54a-598d9bd72efe",
    "scrolled": true
   },
   "outputs": [
    {
     "name": "stdout",
     "output_type": "stream",
     "text": [
      "Nabin Yadav\n",
      "20051984\n",
      "23\n",
      "Janakpur\n"
     ]
    }
   ],
   "source": [
    "#WAP TO DISPLAY YOUR NAME ,ROLLNO, AGE AND HOMETOWN.\n",
    "name = \"Nabin Yadav\"\n",
    "roll_no = 20051984\n",
    "age = 23\n",
    "hometown = \"Janakpur\"\n",
    "print(name)\n",
    "print(roll_no)\n",
    "print(age)\n",
    "print(hometown)"
   ]
  },
  {
   "cell_type": "code",
   "execution_count": null,
   "metadata": {},
   "outputs": [],
   "source": []
  },
  {
   "cell_type": "code",
   "execution_count": 2,
   "metadata": {
    "colab": {
     "base_uri": "https://localhost:8080/"
    },
    "id": "ut4z2unJ-wS9",
    "outputId": "ec5a5458-7758-4519-8b5d-f8c32fa5f27c"
   },
   "outputs": [
    {
     "name": "stdout",
     "output_type": "stream",
     "text": [
      "Present\n"
     ]
    }
   ],
   "source": [
    "#WAP TO CHECK WHETHER “AM” IS PRESENT ON “I AM A STUDENT OF KIIT UNIVESITY”.\n",
    "str1 = \"I am a student of kiit\"\n",
    "str2 = \"am\"\n",
    "prst = str1.find(str2)\n",
    "if prst > 0:\n",
    "  print(\"Present\")\n",
    "else:\n",
    "  print(\"Absent\")\n",
    "\n"
   ]
  },
  {
   "cell_type": "code",
   "execution_count": 3,
   "metadata": {
    "colab": {
     "base_uri": "https://localhost:8080/"
    },
    "id": "GmNT4bCg_5yJ",
    "outputId": "58752ffc-d837-4932-a12c-da0af6f5875c"
   },
   "outputs": [
    {
     "name": "stdout",
     "output_type": "stream",
     "text": [
      "Enter the height of the cylinder7\n",
      "Enter the radius of the cylinder5\n",
      "220.0\n"
     ]
    }
   ],
   "source": [
    "#WAP TO FIND THE CURVED SURFACE AREA OF A CYLINDER.\n",
    "height = int(input(\"Enter the height of the cylinder\"))\n",
    "radius = int(input(\"Enter the radius of the cylinder\"))\n",
    "PI = 22/7\n",
    "curved_surface_area = 2*PI*radius*height\n",
    "print(curved_surface_area)"
   ]
  },
  {
   "cell_type": "code",
   "execution_count": 4,
   "metadata": {
    "colab": {
     "base_uri": "https://localhost:8080/"
    },
    "id": "rfxru8qbAd0j",
    "outputId": "7da28bce-0ae0-40fc-a19c-acd3ea020720"
   },
   "outputs": [
    {
     "name": "stdout",
     "output_type": "stream",
     "text": [
      "rldC\n"
     ]
    }
   ],
   "source": [
    "#WAP TO SLICE THE GIVEN STRING FROM 9TO 13(HOCKEY WORLDCUP)\n",
    "str1 = \"Hockey WorldCup\"\n",
    "print(str1[9:13])"
   ]
  },
  {
   "cell_type": "code",
   "execution_count": 5,
   "metadata": {
    "colab": {
     "base_uri": "https://localhost:8080/"
    },
    "id": "5wi-vlBGBjXb",
    "outputId": "4bf9ff58-15de-4d82-b856-431a04f224f3"
   },
   "outputs": [
    {
     "name": "stdout",
     "output_type": "stream",
     "text": [
      "Enter first num3\n",
      "Enter second num22\n",
      "Enter third num54\n",
      "Enter fourth num33\n",
      "Enter fifth num1\n",
      "The minimum among five number  1\n"
     ]
    }
   ],
   "source": [
    "#WAP TO FIND THE MINIMUM OF 5 NUMBERS(NOS SHOULD BE TAKEN AS INPUT FROMKEYBOARD)\n",
    "n1 = int(input(\"Enter first num\"))\n",
    "n2 = int(input(\"Enter second num\"))\n",
    "n3 = int(input(\"Enter third num\"))\n",
    "n4 = int(input(\"Enter fourth num\"))\n",
    "n5 = int(input(\"Enter fifth num\"))\n",
    "minNum = min(n1,n2,n3,n4,n5)\n",
    "print(\"The minimum among five number \",minNum)\n",
    "\n",
    "\n"
   ]
  },
  {
   "cell_type": "code",
   "execution_count": 6,
   "metadata": {
    "colab": {
     "base_uri": "https://localhost:8080/"
    },
    "id": "5ksabIDBCaiR",
    "outputId": "af59c749-e8c3-4188-c4b2-656cb0a9dbc3"
   },
   "outputs": [
    {
     "name": "stdout",
     "output_type": "stream",
     "text": [
      "Enter the temperature in celsius36\n"
     ]
    },
    {
     "data": {
      "text/plain": [
       "96.8"
      ]
     },
     "execution_count": 6,
     "metadata": {},
     "output_type": "execute_result"
    }
   ],
   "source": [
    "#WAP TO CONVERT CELSIUS INTO FARENHEIT\n",
    "temp_cel = int(input(\"Enter the temperature in celsius\"))\n",
    "temp_fah = (9*temp_cel)/5 + 32\n",
    "temp_fah"
   ]
  },
  {
   "cell_type": "code",
   "execution_count": 7,
   "metadata": {
    "colab": {
     "base_uri": "https://localhost:8080/"
    },
    "id": "LF8A1fs6C5Kt",
    "outputId": "7cb4e762-6efb-45b4-8bef-061f6e2c3422"
   },
   "outputs": [
    {
     "name": "stdout",
     "output_type": "stream",
     "text": [
      "I Love Computer Engineering\n",
      "I Love Computer Engineering\n"
     ]
    }
   ],
   "source": [
    "#ASSIGN FOUR STRINGS TO VARIABLE A,B,C,D. WAP TO CONCATENATE THE FOUR VARIABLESWITH A SPACE BETWEEN TWO SUBSEQUENT.\n",
    "a = \"I\"\n",
    "b = \"Love\"\n",
    "c = \"Computer\"\n",
    "d = \"Engineering\"\n",
    "print(a + \" \"+b+\" \"+c+\" \"+d)\n",
    "#print(a,b,c,d)\n"
   ]
  },
  {
   "cell_type": "code",
   "execution_count": 8,
   "metadata": {
    "colab": {
     "base_uri": "https://localhost:8080/"
    },
    "id": "DGZbmVfJDb0m",
    "outputId": "9d35f10d-a4ee-407b-e1e7-b2daf550c9c5"
   },
   "outputs": [
    {
     "name": "stdout",
     "output_type": "stream",
     "text": [
      "enter first number: 4\n",
      "enter second number:3\n",
      "7.0 1.0 12.0 1.3333333333333333 1.0 1.0 64.0\n"
     ]
    }
   ],
   "source": [
    "#WAP TO PERFORM ALL ARITHMATIC OPERATIONS BETWEEN TO FLOAT NUMBERS.\n",
    "n1 = float(input(\"enter first number: \"))\n",
    "n2 = float(input(\"enter second number:\"))\n",
    "#all arithmetic operations\n",
    "add = n1 + n2\n",
    "sub = n1 - n2\n",
    "mul = n1 * n2\n",
    "div = n1 / n2\n",
    "div1 = n1 // n2\n",
    "mod = n1 % n2\n",
    "exp = n1 ** n2\n",
    "print(add,sub,mul,div,div1,mod,exp)"
   ]
  },
  {
   "cell_type": "code",
   "execution_count": 9,
   "metadata": {},
   "outputs": [
    {
     "name": "stdout",
     "output_type": "stream",
     "text": [
      "Enter the amount in Rs= Rs 8\n",
      "The amount in dollar- 0.096\n",
      "The amount in euro- 443.52\n"
     ]
    }
   ],
   "source": [
    "\n",
    "import math\n",
    "\n",
    "a=int(input(\"Enter the amount in Rs= Rs \"))\n",
    "b=math.factorial(a)\n",
    "dollar=a*0.012\n",
    "euro=b*0.011\n",
    "\n",
    "print(\"The amount in dollar-\",dollar) \n",
    "print (\"The amount in euro-\",euro)"
   ]
  },
  {
   "cell_type": "code",
   "execution_count": 10,
   "metadata": {},
   "outputs": [
    {
     "name": "stdout",
     "output_type": "stream",
     "text": [
      "How many terms the user wants to print? 5\n",
      "The fibonacci sequence of the numbers is: \n",
      "0\n",
      "1\n",
      "1\n",
      "2\n",
      "3\n"
     ]
    }
   ],
   "source": [
    "\n",
    "n_terms = int(input (\"How many terms the user wants to print? \"))\n",
    "n1 = 0\n",
    "n2 = 1\n",
    "count = 0\n",
    "if n_terms <= 0:\n",
    "  print(\"Please enter a positive integer, the given number is not valid\")\n",
    "\n",
    "elif n_terms == 1:\n",
    "  print(\"The Fibonacci sequence of the numbers up to\", n_terms, \": \") \n",
    "  print(n1) \n",
    "\n",
    "else:\n",
    "  print(\"The fibonacci sequence of the numbers is: \")\n",
    "while count < n_terms:\n",
    "  print(n1)\n",
    "  nth = n1 + n2\n",
    "  n1 = n2\n",
    "  n2 = nth\n",
    "  count += 1"
   ]
  },
  {
   "cell_type": "code",
   "execution_count": null,
   "metadata": {},
   "outputs": [],
   "source": []
  }
 ],
 "metadata": {
  "colab": {
   "provenance": []
  },
  "kernelspec": {
   "display_name": "Python 3 (ipykernel)",
   "language": "python",
   "name": "python3"
  },
  "language_info": {
   "codemirror_mode": {
    "name": "ipython",
    "version": 3
   },
   "file_extension": ".py",
   "mimetype": "text/x-python",
   "name": "python",
   "nbconvert_exporter": "python",
   "pygments_lexer": "ipython3",
   "version": "3.9.13"
  }
 },
 "nbformat": 4,
 "nbformat_minor": 1
}
