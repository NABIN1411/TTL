{
 "cells": [
  {
   "cell_type": "code",
   "execution_count": 2,
   "id": "763250a5",
   "metadata": {},
   "outputs": [
    {
     "name": "stdout",
     "output_type": "stream",
     "text": [
      "Nabin, Yadav\n"
     ]
    }
   ],
   "source": [
    "#q1 Write a Python program to convert a tuple to a string..\n",
    "tuple1 = (\"Nabin\", \"Yadav\")\n",
    "string1 = \"\"\n",
    "for element in tuple1:\n",
    "    string1 += element + \", \"\n",
    "\n",
    "string1 = string1[:-2]\n",
    "\n",
    "print(string1)\n"
   ]
  },
  {
   "cell_type": "code",
   "execution_count": 2,
   "id": "88996a0d",
   "metadata": {},
   "outputs": [
    {
     "name": "stdout",
     "output_type": "stream",
     "text": [
      "The repeated items in the tuple are: [2, 3, 4]\n"
     ]
    }
   ],
   "source": [
    "#q2 Write a Python program to find the repeated items of a tuple\n",
    "\n",
    "tuple1 = (1, 2, 3, 2, 4, 3, 5, 6, 4)\n",
    "rep_items = []\n",
    "for i in range(len(tuple1)):\n",
    "    for j in range(i + 1, len(tuple1)):\n",
    "        if tuple1[i] == tuple1[j] and tuple1[i] not in rep_items:\n",
    "            rep_items.append(tuple1[i])\n",
    "print(\"The repeated items in the tuple are:\", rep_items)\n"
   ]
  },
  {
   "cell_type": "code",
   "execution_count": 3,
   "id": "e31341d5",
   "metadata": {},
   "outputs": [
    {
     "name": "stdout",
     "output_type": "stream",
     "text": [
      "The converted tuple is: (1, 2, 3, 4, 5)\n"
     ]
    }
   ],
   "source": [
    "#q3. Write a Python program to convert a list to a tuple..\n",
    "list1 = [1, 2, 3, 4,5]\n",
    "tuple1 = ()\n",
    "for item in list1:\n",
    "    tuple1 += (item,)\n",
    "\n",
    "print(\"The converted tuple is:\", tuple1)\n"
   ]
  },
  {
   "cell_type": "code",
   "execution_count": 4,
   "id": "c1d95c32",
   "metadata": {},
   "outputs": [
    {
     "name": "stdout",
     "output_type": "stream",
     "text": [
      "The reversed tuple is: (5, 4, 3, 2, 1)\n"
     ]
    }
   ],
   "source": [
    "#q4 Write a Python program to reverse a tuple.\n",
    "tuple1 = (1, 2, 3, 4, 5)\n",
    "rev_tuple = ()\n",
    "for i in range(len(tuple1) - 1, -1, -1):\n",
    "    rev_tuple += (tuple1[i],)\n",
    "print(\"The reversed tuple is:\", rev_tuple)\n"
   ]
  },
  {
   "cell_type": "code",
   "execution_count": 10,
   "id": "615b1b24",
   "metadata": {},
   "outputs": [
    {
     "name": "stdout",
     "output_type": "stream",
     "text": [
      "[(1, 2), (3,), (4, 5), (6,)]\n"
     ]
    }
   ],
   "source": [
    "#q5 Write a Python program to remove an empty tuple(s) from a list of tuples\n",
    "list1 = [(1,2), (), (3,), (4,5), (), (), (6,), ()]\n",
    "list2 = []\n",
    "for tup in list1:\n",
    "    if len(tup) > 0:\n",
    "        list2.append(tup)\n",
    "print(list2)\n",
    "\n"
   ]
  },
  {
   "cell_type": "code",
   "execution_count": 11,
   "id": "3f55f843",
   "metadata": {},
   "outputs": [
    {
     "name": "stdout",
     "output_type": "stream",
     "text": [
      "[(1, 1, 3), (4, 2, 6), (7, 8, 3, 10), (11, 12, 4, 14, 15)]\n"
     ]
    }
   ],
   "source": [
    "#q6 Write a Python program to replace middle value of tuples in a list.\n",
    "list1 = [(1,2,3), (4,5,6), (7,8,9,10), (11,12,13,14,15)]\n",
    "for i in range(len(list1)):\n",
    "    tup = list1[i]\n",
    "    mid1 = len(tup) // 2\n",
    "    value1 = i + 1  \n",
    "    list1[i] = tup[:mid1] + (value1,) + tup[mid1 + 1:]\n",
    "print(list1)\n",
    "\n"
   ]
  },
  {
   "cell_type": "code",
   "execution_count": 13,
   "id": "72f62f70",
   "metadata": {},
   "outputs": [
    {
     "name": "stdout",
     "output_type": "stream",
     "text": [
      "5th element:  5\n",
      "5th element from last:  6\n"
     ]
    }
   ],
   "source": [
    "#q7 Write a Python program to get the 5th element and 5th element from last of a tuple\n",
    "# create a tuple\n",
    "tuple1 = (1, 2, 3, 4, 5, 6, 7, 8, 9, 10)\n",
    "element1 = tuple1[4]\n",
    "element2 = tuple1[-5]\n",
    "print(\"5th element: \", element1)\n",
    "print(\"5th element from last: \", element2)\n"
   ]
  },
  {
   "cell_type": "code",
   "execution_count": 22,
   "id": "45e2035f",
   "metadata": {},
   "outputs": [
    {
     "name": "stdout",
     "output_type": "stream",
     "text": [
      "The two sets have no elements in common\n"
     ]
    }
   ],
   "source": [
    "#8 Write a Python program to check if two given sets have no elements in common.\n",
    "set1 = {1, 2, 3, 4, 5}\n",
    "set2 = {6, 7, 8, 9, 10}\n",
    "\n",
    "if set1.isdisjoint(set2):\n",
    "    print(\"The two sets have no elements in common\")\n",
    "else:\n",
    "    print(\"The two sets have at least one element in common\")"
   ]
  },
  {
   "cell_type": "code",
   "execution_count": 49,
   "id": "93b02ea2",
   "metadata": {},
   "outputs": [
    {
     "name": "stdout",
     "output_type": "stream",
     "text": [
      "False\n"
     ]
    }
   ],
   "source": [
    "#9 Write a Python program to check whether an element exists within a tuple.\n",
    "tup = (1,2,3,4,5,6)\n",
    "element = 12\n",
    "ans = False\n",
    "for i in tup:\n",
    "    if i == element:\n",
    "        ans = True\n",
    "        break\n",
    "print(ans)"
   ]
  },
  {
   "cell_type": "code",
   "execution_count": 46,
   "id": "920a2387",
   "metadata": {},
   "outputs": [
    {
     "name": "stdout",
     "output_type": "stream",
     "text": [
      "7 is present in the set.\n"
     ]
    }
   ],
   "source": [
    "#10 Write a Python program to check if a given value is present in a set or not.\n",
    "set1 = {3, 7, 8, 9, 2}\n",
    "value = 7\n",
    "if value in set1:\n",
    "    print(f\"{value} is present in the set.\")\n",
    "else:\n",
    "    print(f\"{value} is not present in the set.\")\n"
   ]
  },
  {
   "cell_type": "code",
   "execution_count": 23,
   "id": "e5adbd7b",
   "metadata": {},
   "outputs": [
    {
     "name": "stdout",
     "output_type": "stream",
     "text": [
      "s is a superset of itself and a superset of t\n"
     ]
    }
   ],
   "source": [
    "#11 Write a Python program to check if a given set is superset of itself and superset of another given set.\n",
    "s = {1, 2, 3, 4}\n",
    "t = {1, 2}\n",
    "\n",
    "if s >= s and s >= t:\n",
    "    print(\"s is a superset of itself and a superset of t\")\n",
    "else:\n",
    "    print(\"s is not a superset of itself and a superset of t\")\n"
   ]
  },
  {
   "cell_type": "code",
   "execution_count": 24,
   "id": "f8ee8234",
   "metadata": {},
   "outputs": [
    {
     "name": "stdout",
     "output_type": "stream",
     "text": [
      "Union of set1 and set2: {1, 2, 3, 4, 5, 6, 7, 8}\n",
      "Intersection of set1 and set2: {4, 5}\n",
      "Difference between set1 and set2: {1, 2, 3}\n",
      "Symmetric difference between set1 and set2: {1, 2, 3, 6, 7, 8}\n"
     ]
    }
   ],
   "source": [
    "#q12 Write a Python program to create a union, intersection, difference, symmetric difference of sets.\n",
    "set1 = {1, 2, 3, 4, 5}\n",
    "set2 = {4, 5, 6, 7, 8}\n",
    "union_set = set1.union(set2)\n",
    "print(\"Union of set1 and set2:\", union_set)\n",
    "intersection_set = set1.intersection(set2)\n",
    "print(\"Intersection of set1 and set2:\", intersection_set)\n",
    "difference_set = set1.difference(set2)\n",
    "print(\"Difference between set1 and set2:\", difference_set)\n",
    "symmetric_difference_set = set1.symmetric_difference(set2)\n",
    "print(\"Symmetric difference between set1 and set2:\", symmetric_difference_set)"
   ]
  },
  {
   "cell_type": "code",
   "execution_count": 10,
   "id": "2f0ec991",
   "metadata": {},
   "outputs": [
    {
     "name": "stdout",
     "output_type": "stream",
     "text": [
      "{1, 4, 5}\n",
      "{6, 7, 8}\n"
     ]
    }
   ],
   "source": [
    "#13 Write a Python program to remove the intersection of a 2nd set from the 1stset.\n",
    "set1={1,2,3,4,5}\n",
    "set2={2,3,6,7,8}\n",
    "intersection =set()\n",
    "for i in set1:\n",
    "    for j in set2:\n",
    "        if i == j:\n",
    "            intersection.add(i);\n",
    "for i in intersection:\n",
    "     set1.remove(i)\n",
    "     set2.remove(i)\n",
    "  \n",
    "\n",
    "print(set1)\n",
    "print(set2)"
   ]
  },
  {
   "cell_type": "code",
   "execution_count": null,
   "id": "93426530",
   "metadata": {},
   "outputs": [],
   "source": []
  }
 ],
 "metadata": {
  "kernelspec": {
   "display_name": "Python 3 (ipykernel)",
   "language": "python",
   "name": "python3"
  },
  "language_info": {
   "codemirror_mode": {
    "name": "ipython",
    "version": 3
   },
   "file_extension": ".py",
   "mimetype": "text/x-python",
   "name": "python",
   "nbconvert_exporter": "python",
   "pygments_lexer": "ipython3",
   "version": "3.9.13"
  }
 },
 "nbformat": 4,
 "nbformat_minor": 5
}
