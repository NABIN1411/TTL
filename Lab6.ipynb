{
 "cells": [
  {
   "cell_type": "code",
   "execution_count": 1,
   "id": "abfc05e6",
   "metadata": {},
   "outputs": [
    {
     "name": "stdout",
     "output_type": "stream",
     "text": [
      "{'Sachin': 1, 'Sima': 2, 'Suman': 3, 'Dipu': 40}\n"
     ]
    }
   ],
   "source": [
    "#1.Write a Python script to sort (ascending and descending) a dictionary by value.\n",
    "\n",
    "dict5={'Dipu':40,'Sima':2,'Sachin':1,'Suman':3}                                         \n",
    "sorted_values = sorted(dict5.values())\n",
    "sorted_dict5 = {}\n",
    "\n",
    "for i in sorted_values:\n",
    "    for k in dict5.keys():\n",
    "        if dict5[k] == i:\n",
    "            sorted_dict5[k] = dict5[k]\n",
    "print(sorted_dict5)"
   ]
  },
  {
   "cell_type": "code",
   "execution_count": 2,
   "id": "f7abb4eb",
   "metadata": {},
   "outputs": [
    {
     "name": "stdout",
     "output_type": "stream",
     "text": [
      "{'A': 1, 'B': 2, 'C': 3, 'D': 4, 'E': 5, 'F': 6}\n"
     ]
    }
   ],
   "source": [
    "#2.Write a Python script to concatenate two dictionaries to create a new one.\n",
    "\n",
    "dict1 = {'A': 1, 'B': 2, 'C': 3}\n",
    "dict2 = {'D': 4, 'E': 5, 'F': 6}\n",
    "concatenated_dict = {}\n",
    "for key, value in dict1.items():\n",
    "    concatenated_dict[key] = value\n",
    "for key, value in dict2.items():\n",
    "    concatenated_dict[key] = value\n",
    "print(concatenated_dict)\n"
   ]
  },
  {
   "cell_type": "code",
   "execution_count": 3,
   "id": "8d276171",
   "metadata": {},
   "outputs": [
    {
     "name": "stdout",
     "output_type": "stream",
     "text": [
      "{'A': 1, 'C': 3}\n"
     ]
    }
   ],
   "source": [
    "#3.Write a Python program to remove a key from a dictionary.\n",
    "\n",
    "dict1 = {'A': 1, 'B': 2, 'C': 3}\n",
    "del dict1['B']\n",
    "print(dict1)\n"
   ]
  },
  {
   "cell_type": "code",
   "execution_count": 4,
   "id": "0383d7d0",
   "metadata": {},
   "outputs": [
    {
     "name": "stdout",
     "output_type": "stream",
     "text": [
      "{'A': 1, 'B': 2, 'D': 3}\n"
     ]
    }
   ],
   "source": [
    "#4.Write a Python program to remove duplicates from Dictionary.\n",
    "\n",
    "dict3 = {'A': 1, 'B': 2, 'C': 1, 'D': 3, 'E': 2}\n",
    "duplicate_dict = {}\n",
    "for key, value in dict3.items():\n",
    "    if value not in duplicate_dict.values():\n",
    "        duplicate_dict[key] = value\n",
    "print(duplicate_dict)\n",
    "\n"
   ]
  },
  {
   "cell_type": "code",
   "execution_count": 5,
   "id": "838df0b7",
   "metadata": {},
   "outputs": [
    {
     "name": "stdout",
     "output_type": "stream",
     "text": [
      "{'Dipu': 22, 'Rocky': 10, 'Riya': 12, 'Akash': 18, 'Sachin': 20, 'Suman': 16}\n"
     ]
    }
   ],
   "source": [
    "#5.Write a Python program to combine two dictionary adding values for common keys.\n",
    "\n",
    "dict1 = {'Dipu': 22, 'Rocky': 10, 'Riya' : 12 }\n",
    "dict2 = {'Akash': 18,'Sachin': 20,'Suman' : 16 }\n",
    "for key in dict2:\n",
    "    if key in dict1:\n",
    "        dict1[key] += dict2[key]\n",
    "    else:\n",
    "        dict1[key] = dict2[key]\n",
    "print(dict1)\n",
    "\n"
   ]
  },
  {
   "cell_type": "code",
   "execution_count": 6,
   "id": "a14fa645",
   "metadata": {},
   "outputs": [
    {
     "name": "stdout",
     "output_type": "stream",
     "text": [
      "{'Raja': 25, 'Divyam': 20, 'Sachin': 15}\n"
     ]
    }
   ],
   "source": [
    "#6.Write a Python program to find the highest 3 values of corresponding keys in a dictionary.\n",
    "\n",
    "dict4 = {'Dip': 10, 'Sonu': 5, 'Sachin': 15, 'Divyam': 20, 'Raja': 25}\n",
    "top_keys = sorted(dict4, key=dict4.get, reverse=True)[:3]\n",
    "top_dict = {}\n",
    "for key in top_keys:\n",
    "    top_dict[key] = dict4[key]\n",
    "print(top_dict)\n"
   ]
  },
  {
   "cell_type": "code",
   "execution_count": 7,
   "id": "89ddd999",
   "metadata": {},
   "outputs": [
    {
     "name": "stdout",
     "output_type": "stream",
     "text": [
      "{'person1': {'name': 'Dipu', 'age': 22, 'address': {'city': 'Janakpur', 'state': 'Madhesh', 'zip': 48200}}, 'person2': {'name': 'Sachin', 'age': 20, 'address': {'city': 'Raj biraj', 'state': 'Mad', 'zip': 47600}}}\n"
     ]
    }
   ],
   "source": [
    "#7.WAP TO Change value of a key in a nested dictionary\n",
    "\n",
    "dict_1 = {\n",
    "    \"person1\": {\n",
    "        \"name\": \"Dipu\",\n",
    "        \"age\": 22,\n",
    "        \"address\": {\n",
    "            \"city\": \"Janakpur\",\n",
    "            \"state\": \"Madhesh\",\n",
    "            \"zip\": 45600\n",
    "        }\n",
    "    },\n",
    "    \"person2\": {\n",
    "        \"name\": \"Sachin\",\n",
    "        \"age\": 20,\n",
    "        \"address\": {\n",
    "            \"city\": \"Raj biraj\",\n",
    "            \"state\": \"Mad\",\n",
    "            \"zip\": 47600\n",
    "        }\n",
    "    }\n",
    "}\n",
    "dict_1[\"person1\"][\"address\"][\"zip\"] = 48200\n",
    "print(dict_1)\n",
    "\n"
   ]
  },
  {
   "cell_type": "code",
   "execution_count": 8,
   "id": "9f52e1c8",
   "metadata": {},
   "outputs": [
    {
     "name": "stdout",
     "output_type": "stream",
     "text": [
      "The sum of all values is: 60\n"
     ]
    }
   ],
   "source": [
    "#8.Write a program to sum all the values of a dictionary.\n",
    "dict_2 = {'a': 10, 'b': 20, 'c': 30}\n",
    "\n",
    "total = 0\n",
    "for key, value in dict_2.items():\n",
    "    total += value\n",
    "print(\"The sum of all values is:\", total)\n"
   ]
  },
  {
   "cell_type": "code",
   "execution_count": 9,
   "id": "a06bad4d",
   "metadata": {},
   "outputs": [
    {
     "name": "stdout",
     "output_type": "stream",
     "text": [
      "{1: 1, 2: 4, 3: 9, 4: 16, 5: 25, 6: 36, 7: 49, 8: 64, 9: 81, 10: 100}\n"
     ]
    }
   ],
   "source": [
    "#9.Write a Python script to print a dictionary where the keys are numbers between 1 and n (both included) and the values are square of keys.\n",
    "\n",
    "dict_3 = {}\n",
    "n = 10\n",
    "for i in range(1, n+1):\n",
    "    dict_3[i] = i*i\n",
    "print(dict_3)\n"
   ]
  },
  {
   "cell_type": "code",
   "execution_count": 10,
   "id": "df59eb11",
   "metadata": {},
   "outputs": [
    {
     "name": "stdout",
     "output_type": "stream",
     "text": [
      "Maximum value: 50\n",
      "Minimum value: 10\n"
     ]
    }
   ],
   "source": [
    "#10. Write a program to get the maximum and minimum value of dictionary.\n",
    "\n",
    "dict_4 = {'Ram': 20, 'Mohan': 50, 'Chiranjeevi': 10, 'Dipen': 30}\n",
    "\n",
    "max_val = float('-inf')\n",
    "min_val = float('inf')\n",
    "for val in dict_4.values():\n",
    "    if val > max_val:\n",
    "        max_val = val\n",
    "    if val < min_val:\n",
    "        min_val = val\n",
    "print(\"Maximum value:\", max_val)\n",
    "print(\"Minimum value:\", min_val)\n"
   ]
  },
  {
   "cell_type": "code",
   "execution_count": null,
   "id": "1be360a8",
   "metadata": {},
   "outputs": [],
   "source": []
  }
 ],
 "metadata": {
  "kernelspec": {
   "display_name": "Python 3 (ipykernel)",
   "language": "python",
   "name": "python3"
  },
  "language_info": {
   "codemirror_mode": {
    "name": "ipython",
    "version": 3
   },
   "file_extension": ".py",
   "mimetype": "text/x-python",
   "name": "python",
   "nbconvert_exporter": "python",
   "pygments_lexer": "ipython3",
   "version": "3.9.13"
  }
 },
 "nbformat": 4,
 "nbformat_minor": 5
}
