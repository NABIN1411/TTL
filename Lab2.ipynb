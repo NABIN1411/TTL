{
 "cells": [
  {
   "cell_type": "code",
   "execution_count": 17,
   "id": "5e09fb16",
   "metadata": {},
   "outputs": [
    {
     "name": "stdout",
     "output_type": "stream",
     "text": [
      "Enter Number: 4\n",
      "1 2 3 4 3 2 1 \n",
      "  1 2 3 2 1 \n",
      "    1 2 1 \n",
      "      1 \n"
     ]
    }
   ],
   "source": [
    "#q1.WAP to form reverse pyramid of numbers for a given number. Ex. for number 4\n",
    "\n",
    "n = int(input(\"Enter Number: \"))\n",
    "space = 0\n",
    "for i in reversed(range(1, n+1)):\n",
    "    for s in range(1, space+1):\n",
    "        print(\" \", end=\" \")\n",
    "    for j in range(1, i+1):\n",
    "        print(j, end=\" \")\n",
    "    for k in reversed(range(1, i)):\n",
    "        print(k, end=\" \")\n",
    "    print(\"\")\n",
    "    space += 1\n"
   ]
  },
  {
   "cell_type": "code",
   "execution_count": 2,
   "id": "49d80c77",
   "metadata": {},
   "outputs": [
    {
     "name": "stdout",
     "output_type": "stream",
     "text": [
      "      1\n",
      "     1 1\n",
      "    1 2 1\n",
      "   1 3 3 1\n",
      "  1 4 6 4 1\n"
     ]
    }
   ],
   "source": [
    "#q2. WAP to generate the pascal triangle pyramid of numbers for a given number. Ex. for number 4\n",
    "\n",
    "n = 5\n",
    "\n",
    "for i in range(1, n+1):\n",
    "    for j in range(0, n-i+1):\n",
    "        print(' ', end='')\n",
    "\n",
    "    C = 1\n",
    "    for j in range(1, i+1):\n",
    "\n",
    "        print(' ', C, sep='', end='')\n",
    "        C = C * (i - j) // j\n",
    "    print()\n",
    "\n"
   ]
  },
  {
   "cell_type": "code",
   "execution_count": 3,
   "id": "b0f9b9d9",
   "metadata": {},
   "outputs": [
    {
     "name": "stdout",
     "output_type": "stream",
     "text": [
      "Enter decimal number: 5\n",
      "Enter base: 4\n",
      "11\n"
     ]
    }
   ],
   "source": [
    "#q4 WAP to convert a decimal number into its equivalent number with base b. Decimal number and b are the user input\n",
    "\n",
    "def convert_to_base(decimal, base):\n",
    "    result = \"\"\n",
    "    while decimal > 0:\n",
    "        remainder = decimal % base\n",
    "        decimal = decimal // base\n",
    "        result = str(remainder) + result\n",
    "    return result\n",
    "\n",
    "\n",
    "decimal = int(input(\"Enter decimal number: \"))\n",
    "base = int(input(\"Enter base: \"))\n",
    "print(convert_to_base(decimal, base))\n"
   ]
  },
  {
   "cell_type": "code",
   "execution_count": 4,
   "id": "abdf45a6",
   "metadata": {},
   "outputs": [
    {
     "name": "stdout",
     "output_type": "stream",
     "text": [
      "Enter number with base b: 6\n",
      "Enter base b: 3\n",
      "6\n"
     ]
    }
   ],
   "source": [
    "#q5. WAP to convert a number with base b into its equivalent decimal number. Number with base b & b are the user input\n",
    "def convert_to_decimal(number, base):\n",
    "    decimal = 0\n",
    "    power = 0\n",
    "    while number > 0:\n",
    "        decimal += number % 10 * (base ** power)\n",
    "        number = number // 10\n",
    "        power += 1\n",
    "    return decimal\n",
    "\n",
    "\n",
    "number = int(input(\"Enter number with base b: \"))\n",
    "base = int(input(\"Enter base b: \"))\n",
    "print(convert_to_decimal(number, base))\n"
   ]
  },
  {
   "cell_type": "code",
   "execution_count": 5,
   "id": "e503170d",
   "metadata": {},
   "outputs": [
    {
     "name": "stdout",
     "output_type": "stream",
     "text": [
      "Enter a binary number: 110011\n",
      "Octal: 63\n",
      "Hexadecimal: 33\n"
     ]
    }
   ],
   "source": [
    "#q6.WAP to convert a binary number to its equivalent octal & hexa-decimal number system\n",
    "def binary_to_octal(binary):\n",
    "    decimal = int(binary, 2)\n",
    "    octal = oct(decimal)\n",
    "    return octal[2:]\n",
    "\n",
    "\n",
    "def binary_to_hexadecimal(binary):\n",
    "    decimal = int(binary, 2)\n",
    "    hexadecimal = hex(decimal)\n",
    "    return hexadecimal[2:]\n",
    "\n",
    "\n",
    "binary = input(\"Enter a binary number: \")\n",
    "print(\"Octal:\", binary_to_octal(binary))\n",
    "print(\"Hexadecimal:\", binary_to_hexadecimal(binary))\n"
   ]
  },
  {
   "cell_type": "code",
   "execution_count": 6,
   "id": "dff6e50a",
   "metadata": {},
   "outputs": [
    {
     "name": "stdout",
     "output_type": "stream",
     "text": [
      "Enter a number: 11\n",
      "11 is a prime number.\n"
     ]
    }
   ],
   "source": [
    "#q10. WAP to check whether a number n is prime number or not\n",
    "def is_prime(n):\n",
    "    if n <= 1:\n",
    "        return False\n",
    "    for i in range(2, n):\n",
    "        if n % i == 0:\n",
    "            return False\n",
    "    return True\n",
    "\n",
    "\n",
    "n = int(input(\"Enter a number: \"))\n",
    "if is_prime(n):\n",
    "    print(n, \"is a prime number.\")\n",
    "else:\n",
    "    print(n, \"is not a prime number.\")\n"
   ]
  },
  {
   "cell_type": "code",
   "execution_count": 7,
   "id": "f894cf80",
   "metadata": {},
   "outputs": [
    {
     "name": "stdout",
     "output_type": "stream",
     "text": [
      "Enter value of n:5\n",
      "        *   \n",
      "\n",
      "      *   *   \n",
      "\n",
      "    *   *   *   \n",
      "\n",
      "  *   *   *   *   \n",
      "\n",
      "*   *   *   *   *   \n",
      "\n"
     ]
    }
   ],
   "source": [
    "#q12 WAP to print the Following pattern for n rows. (n to be taken from user\n",
    "n = int(input(\"Enter value of n:\"))\n",
    "for i in range(n):\n",
    "    for sp in range(n-i-1):\n",
    "        print(\" \",end=\" \")\n",
    "    for j in range(i+1):\n",
    "        print(\"*  \",end= \" \")\n",
    "    print(\"\\n\")\n"
   ]
  },
  {
   "cell_type": "code",
   "execution_count": 8,
   "id": "88e9fc66",
   "metadata": {},
   "outputs": [
    {
     "name": "stdout",
     "output_type": "stream",
     "text": [
      "Enter any stringKIITCSIT\n",
      "K I I T C S I T T I S C T I I K \n",
      "K I I T C S I     I S C T I I K \n",
      "K I I T C S         S C T I I K \n",
      "K I I T C             C T I I K \n",
      "K I I T                 T I I K \n",
      "K I I                     I I K \n",
      "K I                         I K \n",
      "K                             K \n",
      "K I                         I K \n",
      "K I I                     I I K \n",
      "K I I T                 T I I K \n",
      "K I I T C             C T I I K \n",
      "K I I T C S         S C T I I K \n",
      "K I I T C S I     I S C T I I K \n",
      "K I I T C S I T T I S C T I I K \n"
     ]
    }
   ],
   "source": [
    "#q3.WAP to display the following style o/p for a given string input through keyboard.(Ex.for a string “KIITCSIT”)\n",
    "\n",
    "str1 = input(\"Enter any string\")\n",
    "\n",
    "l = len(str1)\n",
    "for i in range(l):\n",
    "    for j in range(l-i):\n",
    "        print(str1[j],end=\" \")\n",
    "    for k in range(i):\n",
    "         print(\" \",end=\" \")\n",
    "    for k in range(i):\n",
    "         print(\" \",end=\" \")\n",
    "    for y in range(l-1-i, -1, -1):\n",
    "        print(str1[y],end=\" \")\n",
    "    print()\n",
    "for i in range(l-1):\n",
    "    for j in range(i+2):\n",
    "        print(str1[j],end=\" \")\n",
    "    for k in range(l-i-2,0,-1):\n",
    "         print(\" \",end=\" \")\n",
    "    for k in range(l-i-2,0,-1):\n",
    "         print(\" \",end=\" \")\n",
    "    for y in range(i+1,-1,-1):\n",
    "        print(str1[y],end=\" \")\n",
    "    print()\n"
   ]
  },
  {
   "cell_type": "code",
   "execution_count": 9,
   "id": "70780e1c",
   "metadata": {},
   "outputs": [
    {
     "name": "stdout",
     "output_type": "stream",
     "text": [
      "Enter the value of x:22\n",
      "Enter the value of n:4\n",
      "y = x^n will be: 234256\n"
     ]
    }
   ],
   "source": [
    "#q9.WAP to evaluate the equation y=xnwhere n is a non-negative integer.\n",
    "x = int(input(\"Enter the value of x:\"))\n",
    "n = int(input(\"Enter the value of n:\"))\n",
    "print(\"y = x^n will be:\",x**n)"
   ]
  },
  {
   "cell_type": "code",
   "execution_count": 10,
   "id": "5cfba710",
   "metadata": {},
   "outputs": [
    {
     "name": "stdout",
     "output_type": "stream",
     "text": [
      "A \n",
      "\n",
      "C B A \n",
      "\n",
      "E D C B A \n"
     ]
    }
   ],
   "source": [
    "#q13. WAP to print the following pattern for n rows. (n to be taken from user).\n",
    "for i in range(65,70):\n",
    "    k=i\n",
    "    # Inner loop\n",
    "    if i % 2 != 0:\n",
    "        for j in range(65,i+1):\n",
    "            print(chr(k),end=\" \")\n",
    "            k=k-1\n",
    "    print()\n",
    "    \n",
    "\n"
   ]
  },
  {
   "cell_type": "code",
   "execution_count": 13,
   "id": "b3b6d95a",
   "metadata": {},
   "outputs": [
    {
     "name": "stdout",
     "output_type": "stream",
     "text": [
      "Enter the value of n: 18\n",
      "The sum of the series is:  1140\n"
     ]
    }
   ],
   "source": [
    "#7 WAP to sum the following series S=1+(1+2)+(1+2+3)+...+(1+2+3+...+n).\n",
    "n = int(input(\"Enter the value of n: \"))\n",
    "sum = 0\n",
    "for i in range(1, n+1):\n",
    "    for j in range(1, i+1):\n",
    "        sum += j\n",
    "print(\"The sum of the series is: \", sum)\n"
   ]
  },
  {
   "cell_type": "code",
   "execution_count": 20,
   "id": "ec993c51",
   "metadata": {},
   "outputs": [
    {
     "name": "stdout",
     "output_type": "stream",
     "text": [
      "Enter a number: 33\n",
      "The prime factors of 33 are: {11, 3}\n"
     ]
    }
   ],
   "source": [
    "#q8 WAP to find out the prime factors of a number entered through keyboard\n",
    "def prime_factors(n):\n",
    "    factors = []\n",
    "    i = 2\n",
    "    while i * i <= n:\n",
    "        if n % i:\n",
    "            i += 1\n",
    "        else:\n",
    "            n //= i\n",
    "            factors.append(i)\n",
    "    if n > 1:\n",
    "        factors.append(n)\n",
    "    return set(factors)\n",
    "\n",
    "# Test the function\n",
    "num = int(input(\"Enter a number: \"))\n",
    "print(\"The prime factors of\", num, \"are:\", prime_factors(num))\n"
   ]
  },
  {
   "cell_type": "code",
   "execution_count": 21,
   "id": "74898d06",
   "metadata": {},
   "outputs": [
    {
     "name": "stdout",
     "output_type": "stream",
     "text": [
      "Enter a number: 18\n",
      "The series is:\n",
      "3\n",
      "5\n",
      "7\n",
      "9\n",
      "11\n",
      "13\n",
      "15\n",
      "17\n"
     ]
    }
   ],
   "source": [
    "#q11 WAP to print the series as 3 5 7 11 13 17..........n, where n is given by user.\n",
    "def print_series(n):\n",
    "    num = 3\n",
    "    while num <= n:\n",
    "        print(num)\n",
    "        num += 2\n",
    "    if num > n:\n",
    "        return\n",
    "\n",
    "# Test the function\n",
    "n = int(input(\"Enter a number: \"))\n",
    "print(\"The series is:\")\n",
    "print_series(n)\n"
   ]
  },
  {
   "cell_type": "code",
   "execution_count": null,
   "id": "58a0a836",
   "metadata": {},
   "outputs": [],
   "source": []
  },
  {
   "cell_type": "code",
   "execution_count": null,
   "id": "3521ab3c",
   "metadata": {},
   "outputs": [],
   "source": []
  }
 ],
 "metadata": {
  "kernelspec": {
   "display_name": "Python 3 (ipykernel)",
   "language": "python",
   "name": "python3"
  },
  "language_info": {
   "codemirror_mode": {
    "name": "ipython",
    "version": 3
   },
   "file_extension": ".py",
   "mimetype": "text/x-python",
   "name": "python",
   "nbconvert_exporter": "python",
   "pygments_lexer": "ipython3",
   "version": "3.9.13"
  }
 },
 "nbformat": 4,
 "nbformat_minor": 5
}
