{
 "cells": [
  {
   "cell_type": "code",
   "execution_count": 1,
   "id": "833ac75b",
   "metadata": {},
   "outputs": [
    {
     "name": "stdout",
     "output_type": "stream",
     "text": [
      "[3, 5, 4, 7]\n"
     ]
    }
   ],
   "source": [
    "#q1. Write a program to add two lists index-wise.\n",
    "\n",
    "list1 = [1, 2, 3,4]\n",
    "list2 = [2, 3, 1, 3]\n",
    "result = []\n",
    "\n",
    "for i in range(len(list1)):\n",
    "    result.append(list1[i] + list2[i])\n",
    "\n",
    "print(result)\n"
   ]
  },
  {
   "cell_type": "code",
   "execution_count": 18,
   "id": "6d2b677f",
   "metadata": {},
   "outputs": [
    {
     "data": {
      "text/plain": [
       "[1, 8, 27, 64, 125]"
      ]
     },
     "execution_count": 18,
     "metadata": {},
     "output_type": "execute_result"
    }
   ],
   "source": [
    "#q2. WAP Turn every item of a list into its cube.\n",
    "\n",
    "list1 = [1,2,3,4,5]\n",
    "list2 = []\n",
    "for i in list1:\n",
    "    list2.append(i**3)\n",
    "list2\n"
   ]
  },
  {
   "cell_type": "code",
   "execution_count": 6,
   "id": "b738e504",
   "metadata": {},
   "outputs": [
    {
     "name": "stdout",
     "output_type": "stream",
     "text": [
      "['Nabin Yadav']\n"
     ]
    }
   ],
   "source": [
    "#q3Take two list, list1(1st name) and list 2(last name) . concatenate them in a new list\n",
    "list1 = [\"Nabin\"]\n",
    "list2 = [\"Yadav\"]\n",
    "new_list = []\n",
    "\n",
    "for i in range(len(list1)):\n",
    "    new_list.append(list1[i] + \" \" + list2[i])\n",
    "\n",
    "print(new_list)\n"
   ]
  },
  {
   "cell_type": "code",
   "execution_count": 4,
   "id": "aef6a93e",
   "metadata": {},
   "outputs": [
    {
     "name": "stdout",
     "output_type": "stream",
     "text": [
      "['computer', 141, True, 'Mathematics', 498, 756, False]\n"
     ]
    }
   ],
   "source": [
    "#Q4 WAP to Remove empty strings from the list of strings and display their position.\n",
    "List1=[\"computer\",141, True, \"\", \"Mathematics\",\"\",498,756,\"\", False]\n",
    "while(\"\" in List1):\n",
    "    List1.remove(\"\")\n",
    "print(List1)"
   ]
  },
  {
   "cell_type": "code",
   "execution_count": 7,
   "id": "6bea0145",
   "metadata": {},
   "outputs": [
    {
     "name": "stdout",
     "output_type": "stream",
     "text": [
      "[1984, 1922, 3040, 1751]\n"
     ]
    }
   ],
   "source": [
    "#q5 write a program to remove all occurrences of item ending with 5 from a list of roll nos\n",
    "roll_numbers = [1984, 1922, 3040, 1751, 1935, 1945, 1555]\n",
    "roll_numbers = [i for i in roll_numbers if i%10 !=5]\n",
    "print(roll_numbers)\n"
   ]
  },
  {
   "cell_type": "code",
   "execution_count": 8,
   "id": "e0c2809b",
   "metadata": {},
   "outputs": [
    {
     "name": "stdout",
     "output_type": "stream",
     "text": [
      "30 5 16.0\n"
     ]
    }
   ],
   "source": [
    "#q6 Write a program to find maximum, minimum and average of all elements of a list.\n",
    "\n",
    "listA=[20,10,5,15,30]\n",
    "tot=sum(listA)\n",
    "print(max(listA),min(listA),tot/len(listA))"
   ]
  },
  {
   "cell_type": "code",
   "execution_count": 9,
   "id": "a87ff75c",
   "metadata": {},
   "outputs": [
    {
     "name": "stdout",
     "output_type": "stream",
     "text": [
      "[20, 19, 10, 8, -10]\n"
     ]
    }
   ],
   "source": [
    "#q7. WAP to sort a list of 10 elements in reverse order.\n",
    "\n",
    "listA=[-10,10,8,19,20]\n",
    "listA.sort(reverse=True)\n",
    "print(listA)"
   ]
  },
  {
   "cell_type": "code",
   "execution_count": 10,
   "id": "787f79ea",
   "metadata": {},
   "outputs": [
    {
     "name": "stdout",
     "output_type": "stream",
     "text": [
      " 0\n",
      "Hii= 4\n",
      "Hello= 6\n",
      "[0, 4, 6]\n"
     ]
    }
   ],
   "source": [
    "#q8. Write a program to count the length of each component of a list and present it in a new list.\n",
    "listA=[\"\",\"Hii=\",\"Hello=\"]\n",
    "new_list=[]\n",
    "for x in listA:\n",
    "    print(x,len(x))\n",
    "    new_list.append(len(x))\n",
    "print(new_list)"
   ]
  },
  {
   "cell_type": "code",
   "execution_count": 1,
   "id": "4734b6d9",
   "metadata": {},
   "outputs": [
    {
     "name": "stdout",
     "output_type": "stream",
     "text": [
      "[2.25, 6.25, 12.25, 20.25]\n"
     ]
    }
   ],
   "source": [
    "#q9.WAP to find the average of consecutive elements of a list and display its square in a new list\n",
    "numbers = [1, 2, 3, 4, 5]\n",
    "squared_avgs = []\n",
    "\n",
    "for i in range(len(numbers) - 1):\n",
    "    avg = (numbers[i] + numbers[i + 1]) / 2\n",
    "    squared_avgs.append(avg ** 2)\n",
    "\n",
    "print(squared_avgs)\n"
   ]
  },
  {
   "cell_type": "code",
   "execution_count": 2,
   "id": "176645ba",
   "metadata": {
    "scrolled": false
   },
   "outputs": [
    {
     "name": "stdout",
     "output_type": "stream",
     "text": [
      "240\n",
      "242\n",
      "244\n",
      "246\n",
      "248\n",
      "251\n",
      "253\n",
      "255\n",
      "257\n",
      "259\n",
      "260\n",
      "262\n",
      "264\n",
      "266\n",
      "268\n",
      "271\n",
      "273\n",
      "275\n",
      "277\n",
      "279\n",
      "280\n",
      "282\n",
      "284\n",
      "286\n",
      "288\n",
      "291\n",
      "293\n",
      "295\n",
      "297\n",
      "299\n",
      "301\n",
      "303\n",
      "305\n",
      "307\n",
      "309\n",
      "310\n",
      "312\n",
      "314\n",
      "316\n",
      "318\n",
      "321\n",
      "323\n",
      "325\n",
      "327\n",
      "329\n",
      "330\n",
      "332\n",
      "334\n",
      "336\n",
      "338\n",
      "341\n",
      "343\n",
      "345\n",
      "347\n",
      "349\n",
      "350\n",
      "352\n",
      "354\n",
      "356\n",
      "358\n",
      "361\n",
      "363\n",
      "365\n",
      "367\n",
      "369\n",
      "370\n",
      "372\n",
      "374\n",
      "376\n",
      "378\n",
      "381\n",
      "383\n",
      "385\n",
      "387\n",
      "389\n",
      "390\n",
      "392\n",
      "394\n",
      "396\n",
      "398\n",
      "400\n",
      "402\n",
      "404\n",
      "406\n",
      "408\n",
      "411\n",
      "413\n",
      "415\n",
      "417\n",
      "419\n",
      "420\n",
      "422\n",
      "424\n",
      "426\n",
      "428\n",
      "431\n",
      "433\n",
      "435\n",
      "437\n",
      "439\n",
      "440\n",
      "442\n",
      "444\n",
      "446\n",
      "448\n",
      "451\n",
      "453\n",
      "455\n",
      "457\n",
      "459\n",
      "460\n",
      "462\n",
      "464\n",
      "466\n",
      "468\n",
      "471\n",
      "473\n",
      "475\n",
      "477\n",
      "479\n",
      "480\n",
      "482\n",
      "484\n",
      "486\n",
      "488\n",
      "491\n",
      "493\n",
      "495\n",
      "497\n",
      "499\n",
      "501\n",
      "503\n",
      "505\n",
      "507\n",
      "509\n",
      "510\n",
      "512\n",
      "514\n",
      "516\n",
      "518\n",
      "521\n",
      "523\n",
      "525\n",
      "527\n",
      "529\n",
      "530\n",
      "532\n",
      "534\n",
      "536\n",
      "538\n",
      "541\n",
      "543\n",
      "545\n",
      "547\n",
      "549\n",
      "550\n",
      "552\n",
      "554\n",
      "556\n",
      "558\n",
      "561\n",
      "563\n",
      "565\n",
      "567\n",
      "569\n",
      "570\n",
      "572\n",
      "574\n",
      "576\n",
      "578\n",
      "581\n",
      "583\n",
      "585\n",
      "587\n",
      "589\n",
      "590\n",
      "592\n",
      "594\n",
      "596\n",
      "598\n",
      "600\n",
      "602\n",
      "604\n",
      "606\n",
      "608\n",
      "611\n",
      "613\n",
      "615\n",
      "617\n",
      "619\n",
      "620\n",
      "622\n",
      "624\n",
      "626\n",
      "628\n",
      "631\n",
      "633\n",
      "635\n",
      "637\n",
      "639\n",
      "640\n",
      "642\n",
      "644\n",
      "646\n",
      "648\n",
      "651\n",
      "653\n",
      "655\n",
      "657\n",
      "659\n",
      "660\n",
      "662\n",
      "664\n",
      "666\n",
      "668\n",
      "671\n",
      "673\n",
      "675\n",
      "677\n",
      "679\n",
      "680\n",
      "682\n",
      "684\n",
      "686\n",
      "688\n",
      "691\n",
      "693\n",
      "695\n",
      "697\n",
      "699\n",
      "701\n",
      "703\n",
      "705\n",
      "707\n",
      "709\n",
      "710\n",
      "712\n",
      "714\n",
      "716\n",
      "718\n",
      "721\n",
      "723\n",
      "725\n",
      "727\n",
      "729\n",
      "730\n",
      "732\n",
      "734\n",
      "736\n",
      "738\n",
      "741\n",
      "743\n",
      "745\n",
      "747\n",
      "749\n",
      "750\n",
      "752\n",
      "754\n",
      "756\n",
      "758\n",
      "761\n",
      "763\n",
      "765\n",
      "767\n",
      "769\n",
      "770\n",
      "772\n",
      "774\n",
      "776\n",
      "778\n",
      "781\n",
      "783\n",
      "785\n",
      "787\n",
      "789\n",
      "790\n",
      "792\n",
      "794\n",
      "796\n",
      "798\n",
      "800\n"
     ]
    }
   ],
   "source": [
    "#10. WAP to display all integers within the range 240-800 whose sum of digits is an even number.\n",
    "\n",
    "for num in range(240, 801):\n",
    "    sum_of_digits = 0\n",
    "    temp = num\n",
    "    while temp > 0:\n",
    "        digit = temp % 10\n",
    "        sum_of_digits += digit\n",
    "        temp //= 10\n",
    "    if sum_of_digits % 2 == 0:\n",
    "        print(num)"
   ]
  },
  {
   "cell_type": "code",
   "execution_count": 2,
   "id": "5ebcf4bd",
   "metadata": {},
   "outputs": [
    {
     "name": "stdout",
     "output_type": "stream",
     "text": [
      "War is not a palindrome.\n",
      "level is a palindrome.\n",
      "Tiger is not a palindrome.\n"
     ]
    }
   ],
   "source": [
    "#11. Python program to check whether elements of the list is palindrome or not.\n",
    "words = ['War', 'level', 'Tiger']\n",
    "for word in words:\n",
    "    if word == word[::-1]:\n",
    "        print(f'{word} is a palindrome.')\n",
    "    else:\n",
    "        print(f'{word} is not a palindrome.')\n"
   ]
  },
  {
   "cell_type": "code",
   "execution_count": null,
   "id": "ffc98cfe",
   "metadata": {},
   "outputs": [],
   "source": []
  }
 ],
 "metadata": {
  "kernelspec": {
   "display_name": "base",
   "language": "python",
   "name": "python3"
  },
  "language_info": {
   "codemirror_mode": {
    "name": "ipython",
    "version": 3
   },
   "file_extension": ".py",
   "mimetype": "text/x-python",
   "name": "python",
   "nbconvert_exporter": "python",
   "pygments_lexer": "ipython3",
   "version": "3.9.13"
  },
  "vscode": {
   "interpreter": {
    "hash": "ad2bdc8ecc057115af97d19610ffacc2b4e99fae6737bb82f5d7fb13d2f2c186"
   }
  }
 },
 "nbformat": 4,
 "nbformat_minor": 5
}
